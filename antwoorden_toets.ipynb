{
 "cells": [
  {
   "cell_type": "markdown",
   "metadata": {},
   "source": [
    "# Toets Programmeren\n",
    "\n",
    "# VERGEET NIET OP TE SLAAN NA HET MAKEN VAN ELKE OPDRACHT!\n",
    "# VERGEET DE CODE NIET UIT TE VOEREN!"
   ]
  },
  {
   "cell_type": "markdown",
   "metadata": {},
   "source": [
    "### Vraag 1:\n",
    "Zorg dat de uitkomst van de uitdrukking `CambreurCambreurCambreur` is."
   ]
  },
  {
   "cell_type": "code",
   "execution_count": null,
   "metadata": {},
   "outputs": [],
   "source": [
    "x = \"Cambreur\"\n",
    "y = 3\n",
    "z = 1\n",
    "print(x * int(y * z))"
   ]
  },
  {
   "cell_type": "markdown",
   "metadata": {},
   "source": [
    "### Vraag 2:\n",
    "Zorg dat de uitkomst van de uitdrukking `42FalsePythonPython` is."
   ]
  },
  {
   "cell_type": "code",
   "execution_count": null,
   "metadata": {},
   "outputs": [],
   "source": [
    "x = 43\n",
    "y = 1\n",
    "z = False\n",
    "a = 2\n",
    "b = \"Python\"\n",
    "\n",
    "print(str(x - y) + str(z) + a * b)"
   ]
  },
  {
   "cell_type": "markdown",
   "metadata": {},
   "source": [
    "### Vraag 3:\n",
    "Zorg dat de uitkomst van de uitdrukking `True` is."
   ]
  },
  {
   "cell_type": "code",
   "execution_count": null,
   "metadata": {},
   "outputs": [],
   "source": [
    "x = 1\n",
    "y = 1\n",
    "z = 201\n",
    "\n",
    "print(x + (y * z) < 250 and z > 200)"
   ]
  },
  {
   "cell_type": "markdown",
   "metadata": {},
   "source": [
    "### Vraag 4:\n",
    "Om een auto te mogen kopen moet je tenminste €15000.- hebben en 18 jaar oud zijn. Zorg dat de uitkomst van het algoritme `Ja, ik mag een auto kopen` is. (Je moet hiervoor 2 `variabelen` gebruiken)"
   ]
  },
  {
   "cell_type": "code",
   "execution_count": null,
   "metadata": {},
   "outputs": [],
   "source": [
    "geld = 15001\n",
    "leeftijd = 20\n",
    "\n",
    "if(geld > 15000 and leeftijd > 20):\n",
    "    print(\"Ja, ik mag een auto kopen\")\n",
    "else:\n",
    "    print(\"Nee, ik mag geen auto kopen\")"
   ]
  },
  {
   "cell_type": "markdown",
   "metadata": {},
   "source": [
    "### Vraag 5:\n",
    "Jan, Piet & Willem willen samen op reis gaan. Hiervoor moeten ze samen tenminste €1250,- hebben. Maak een programma die checkt of ze genoeg geld hebben om op reis te gaan. Maak hiervoor 3 variabelen aan die elk het spaargeld van Jan, Piet & Willem bijhoudt. Schrijf vervolgens zelf een `If statement` die checkt of dit totaalbedrag genoeg is om op reis te gaan. (Kijk goed naar de andere opdrachten en zorg dat de code op de juiste plek staat! Vergeet de **:** niet!)"
   ]
  },
  {
   "cell_type": "code",
   "execution_count": null,
   "metadata": {},
   "outputs": [],
   "source": [
    "jan = \n",
    "piet = \n",
    "willem = \n",
    "\n",
    "if(jan + piet + willem > 1250):\n",
    "    print(\"Ja, ze kunnen op vakantie\")\n",
    "else:\n",
    "    print(\"Nee, ze kunnen niet op vakantie\")"
   ]
  },
  {
   "cell_type": "markdown",
   "metadata": {},
   "source": [
    "### Vraag 6:\n",
    "Maak een algoritme die verteld wanneer een nummer deelbaar is door 4, 6 of geen van beide. (maak gebruik van `modulo` (%))"
   ]
  },
  {
   "cell_type": "code",
   "execution_count": null,
   "metadata": {},
   "outputs": [],
   "source": [
    "num = 8\n",
    "\n",
    "if(num % 4 == 0):\n",
    "    print(\"Nummer is deelbaar door 4\")\n",
    "elif(num % 6 == 0):\n",
    "    print(\"Nummer is deelbaar door 6\")\n",
    "else:\n",
    "    print(\"Nummer is niet deelbaar door 4 of 6\")"
   ]
  },
  {
   "cell_type": "markdown",
   "metadata": {},
   "source": [
    "### Vraag 7:\n",
    "Maak een algoritme die kijkt of 2 nummers gelijk aan elkaar zijn **EN** dat tenminste 1 van de nummers positief is."
   ]
  },
  {
   "cell_type": "code",
   "execution_count": null,
   "metadata": {},
   "outputs": [],
   "source": [
    "num1 = 5\n",
    "num2 = 5\n",
    "\n",
    "if(num1 == num2 and (num1 > 0 or num2 > 0)):\n",
    "    print(\"De nummers zijn gelijk aan elkaar en een van de twee nummers is positief\")\n",
    "else:\n",
    "    print(\"De nummers zijn niet gelijk aan elkaar of beide zijn negatief\")"
   ]
  },
  {
   "cell_type": "markdown",
   "metadata": {},
   "source": [
    "### Vraag 8:\n",
    "Maak een lijstje met de waardes `1, 2, 3, 5, 7, 13` en print deze uit."
   ]
  },
  {
   "cell_type": "code",
   "execution_count": null,
   "metadata": {},
   "outputs": [],
   "source": [
    "lijst = [1, 2, 3, 5, 7, 13]\n",
    "\n",
    "print(lijst)"
   ]
  },
  {
   "cell_type": "markdown",
   "metadata": {},
   "source": [
    "### Vraag 9:\n",
    "Maak een lijstje met de waardes `10, 20, 30`, voeg vervolgens de waarde `40` toe aan het lijstje en print dan het lijstje uit."
   ]
  },
  {
   "cell_type": "code",
   "execution_count": null,
   "metadata": {},
   "outputs": [],
   "source": [
    "tientallen = [10, 20, 30]\n",
    "tientallen.append(40)\n",
    "\n",
    "print(tientallen)"
   ]
  },
  {
   "cell_type": "markdown",
   "metadata": {},
   "source": [
    "### Vraag 10:\n",
    "Maak een lijstje `sport` en de waardes `Voetbal, Handbal, Banaan`. Haal vervolgens de waarde `Banaan` uit het lijstje en voeg de waarde `Hockey` toe. Print ten slotte het lijstje uit."
   ]
  },
  {
   "cell_type": "code",
   "execution_count": null,
   "metadata": {},
   "outputs": [],
   "source": [
    "sport = [\"Voetbal\", \"Handbal\", \"Banaan\"]\n",
    "sport.pop(2)\n",
    "sport.append(\"Hockey\")\n",
    "\n",
    "print(sport)"
   ]
  },
  {
   "cell_type": "markdown",
   "metadata": {},
   "source": [
    "### Vraag 11:\n",
    "Maak de `for-loop` af zodat alleen even waardes uit het lijstje worden uitgeprint."
   ]
  },
  {
   "cell_type": "code",
   "execution_count": null,
   "metadata": {},
   "outputs": [],
   "source": [
    "nummers = [-32, 14, -47, 33, -32, -56, 51, 59, -77, 8]\n",
    "\n",
    "for getal in nummers:\n",
    "    if(getal % 2 == 0):\n",
    "        print(getal)"
   ]
  },
  {
   "cell_type": "markdown",
   "metadata": {},
   "source": [
    "### Vraag 12:\n",
    "Maak een lijstje en gebruik vervolgens een `for-loop` om alle waardes uit het lijstje onder elkaar uit te printen."
   ]
  },
  {
   "cell_type": "code",
   "execution_count": null,
   "metadata": {},
   "outputs": [],
   "source": [
    "nummers = [-32, 14, -47, 33, -32, -56, 51, 59, -77, 8]\n",
    "\n",
    "for getal in nummers:\n",
    "    print(getal)"
   ]
  },
  {
   "cell_type": "markdown",
   "metadata": {},
   "source": [
    "### Vraag 13:\n",
    "Maak een algoritme die alle oneven waardes uitprint in het bereik van 1 tot en met 100. (Maak gebruik van een `for-range` loop)"
   ]
  },
  {
   "cell_type": "code",
   "execution_count": null,
   "metadata": {},
   "outputs": [],
   "source": [
    "for getal in range(0, 101):\n",
    "    if(getal % 2 == 1):\n",
    "        print(getal)"
   ]
  },
  {
   "cell_type": "markdown",
   "metadata": {},
   "source": [
    "### Opdracht 14:\n",
    "Maak een algoritme die alle waardes deelbaar door 7 **of** negatief zijn uitprint in het bereik van -100 tot en met 100."
   ]
  },
  {
   "cell_type": "code",
   "execution_count": null,
   "metadata": {},
   "outputs": [],
   "source": [
    "for getal in range(-100, 101):\n",
    "    if(getal % 7 == 0 or getal < 0):\n",
    "        print(getal)"
   ]
  },
  {
   "cell_type": "markdown",
   "metadata": {},
   "source": [
    "### Opdracht 15:\n",
    "Maak een algoritme die alle even waardes tot en met 100 bij elkaar **optelt**."
   ]
  },
  {
   "cell_type": "code",
   "execution_count": null,
   "metadata": {},
   "outputs": [],
   "source": [
    "totaal = 0\n",
    "\n",
    "for getal in range(0, 101):\n",
    "    if(getal % 2 == 0):\n",
    "        totaal = totaal + getal\n",
    "\n",
    "print(totaal)"
   ]
  }
 ],
 "metadata": {
  "interpreter": {
   "hash": "d6fc88ca1b8d43d1c2ff556a4cf2c97bc12b18efa130c7f150b410a6ae7c0d14"
  },
  "kernelspec": {
   "display_name": "Python 3.10.4 64-bit",
   "language": "python",
   "name": "python3"
  },
  "language_info": {
   "name": "python",
   "version": "3.10.4"
  },
  "orig_nbformat": 4
 },
 "nbformat": 4,
 "nbformat_minor": 2
}
